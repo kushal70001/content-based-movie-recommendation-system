{
 "cells": [
  {
   "cell_type": "markdown",
   "id": "c98dc496-d645-48ac-a4ae-e17b962e6782",
   "metadata": {},
   "source": [
    "# Recommandation;-"
   ]
  },
  {
   "cell_type": "raw",
   "id": "eb8cce08-6ba0-49bf-b8f2-89020d16a4f4",
   "metadata": {},
   "source": [
    "2 types->\n",
    "\n",
    "1>content based Recommandation => recommand item based on privious experiances\n",
    "_______________________________\n",
    "                                  like;-> at netflix recommand similar type of movie based on your watching experiance.(sigle user)\n",
    "\n",
    "2>collabarative filter bases  => recommand item based privous experiance(record) based collabaration\n",
    "_____________________________    like;- amazon recommand some collabarative item based on record like if we by milk it suggest bread to                                                          purches(multiple user)"
   ]
  },
  {
   "cell_type": "markdown",
   "id": "7acc392d-33b6-4b0a-9053-71cd3aacce1e",
   "metadata": {},
   "source": [
    "### 1>content based Recommandation =>"
   ]
  },
  {
   "cell_type": "code",
   "execution_count": 1,
   "id": "a06cae12-64a2-4c06-90cf-a77d3aefccee",
   "metadata": {},
   "outputs": [],
   "source": [
    "import pandas as pd"
   ]
  },
  {
   "cell_type": "code",
   "execution_count": 4,
   "id": "be4a8d87-42e5-4865-99d0-8378e31f09cb",
   "metadata": {},
   "outputs": [
    {
     "data": {
      "text/html": [
       "<div>\n",
       "<style scoped>\n",
       "    .dataframe tbody tr th:only-of-type {\n",
       "        vertical-align: middle;\n",
       "    }\n",
       "\n",
       "    .dataframe tbody tr th {\n",
       "        vertical-align: top;\n",
       "    }\n",
       "\n",
       "    .dataframe thead th {\n",
       "        text-align: right;\n",
       "    }\n",
       "</style>\n",
       "<table border=\"1\" class=\"dataframe\">\n",
       "  <thead>\n",
       "    <tr style=\"text-align: right;\">\n",
       "      <th></th>\n",
       "      <th>movie_id</th>\n",
       "      <th>description</th>\n",
       "      <th>language</th>\n",
       "      <th>released</th>\n",
       "      <th>rating</th>\n",
       "      <th>writer</th>\n",
       "      <th>director</th>\n",
       "      <th>cast</th>\n",
       "      <th>genre</th>\n",
       "      <th>name</th>\n",
       "    </tr>\n",
       "  </thead>\n",
       "  <tbody>\n",
       "    <tr>\n",
       "      <th>0</th>\n",
       "      <td>tt5286444</td>\n",
       "      <td>Neerja is the story of the courageous Neerja B...</td>\n",
       "      <td>[ \"Hindi\" ]</td>\n",
       "      <td>2016-02-19T00:00:00.000Z</td>\n",
       "      <td>7.9</td>\n",
       "      <td>[ \"Saiwyn Quadras\", \"Sanyukta Shaikh Chawla\" ]</td>\n",
       "      <td>[ \"Ram Madhvani\" ]</td>\n",
       "      <td>[ \"Sonam Kapoor\", \"Shabana Azmi\", \"Yogendra Ti...</td>\n",
       "      <td>[ \"Biography\", \"Drama\", \"Thriller\" ]</td>\n",
       "      <td>Neerja</td>\n",
       "    </tr>\n",
       "    <tr>\n",
       "      <th>1</th>\n",
       "      <td>tt4434004</td>\n",
       "      <td>A story that revolves around drug abuse in the...</td>\n",
       "      <td>[ \"Hindi\", \"Panjabi\" ]</td>\n",
       "      <td>2016-06-17T00:00:00.000Z</td>\n",
       "      <td>7.9</td>\n",
       "      <td>[ \"Sudip Sharma\", \"Abhishek Chaubey\" ]</td>\n",
       "      <td>[ \"Abhishek Chaubey\" ]</td>\n",
       "      <td>[ \"Alia Bhatt\", \"Shahid Kapoor\", \"Diljit Dosan...</td>\n",
       "      <td>[ \"Crime\", \"Drama\", \"Thriller\" ]</td>\n",
       "      <td>Udta Punjab</td>\n",
       "    </tr>\n",
       "    <tr>\n",
       "      <th>2</th>\n",
       "      <td>tt0248126</td>\n",
       "      <td>Yashvardhan Raichand lives a very wealthy life...</td>\n",
       "      <td>[ \"Hindi\", \"English\", \"Urdu\" ]</td>\n",
       "      <td>2001-12-14T00:00:00.000Z</td>\n",
       "      <td>7.5</td>\n",
       "      <td>[ \"Karan Johar\", \"Sheena Parikh\" ]</td>\n",
       "      <td>[ \"Karan Johar\" ]</td>\n",
       "      <td>[ \"Amitabh Bachchan\", \"Jaya Bhaduri\", \"Shah Ru...</td>\n",
       "      <td>[ \"Drama\", \"Musical\", \"Romance\" ]</td>\n",
       "      <td>Kabhi Khushi Kabhie Gham...</td>\n",
       "    </tr>\n",
       "    <tr>\n",
       "      <th>3</th>\n",
       "      <td>tt0347304</td>\n",
       "      <td>Naina, an introverted, perpetually depressed g...</td>\n",
       "      <td>[ \"Hindi\", \"Urdu\", \"Gujarati\", \"Panjabi\" ]</td>\n",
       "      <td>2003-11-28T00:00:00.000Z</td>\n",
       "      <td>8.0</td>\n",
       "      <td>[ \"Niranjan Iyengar\", \"Karan Johar\" ]</td>\n",
       "      <td>[ \"Nikkhil Advani\" ]</td>\n",
       "      <td>[ \"Shah Rukh Khan\", \"Preity Zinta\", \"Saif Ali ...</td>\n",
       "      <td>[ \"Comedy\", \"Drama\", \"Romance\" ]</td>\n",
       "      <td>Kal Ho Naa Ho</td>\n",
       "    </tr>\n",
       "    <tr>\n",
       "      <th>4</th>\n",
       "      <td>tt3043252</td>\n",
       "      <td>'Parched' is a story about women set in the he...</td>\n",
       "      <td>[ \"Hindi\", \"English\" ]</td>\n",
       "      <td>2016-06-17T00:00:00.000Z</td>\n",
       "      <td>7.6</td>\n",
       "      <td>[ \"Supratik Sen\", \"Leena Yadav\" ]</td>\n",
       "      <td>[ \"Leena Yadav\" ]</td>\n",
       "      <td>[ \"Tannishtha Chatterjee\", \"Radhika Apte\", \"Le...</td>\n",
       "      <td>[ \"Drama\" ]</td>\n",
       "      <td>Parched</td>\n",
       "    </tr>\n",
       "  </tbody>\n",
       "</table>\n",
       "</div>"
      ],
      "text/plain": [
       "    movie_id                                        description  \\\n",
       "0  tt5286444  Neerja is the story of the courageous Neerja B...   \n",
       "1  tt4434004  A story that revolves around drug abuse in the...   \n",
       "2  tt0248126  Yashvardhan Raichand lives a very wealthy life...   \n",
       "3  tt0347304  Naina, an introverted, perpetually depressed g...   \n",
       "4  tt3043252  'Parched' is a story about women set in the he...   \n",
       "\n",
       "                                     language                  released  \\\n",
       "0                                 [ \"Hindi\" ]  2016-02-19T00:00:00.000Z   \n",
       "1                      [ \"Hindi\", \"Panjabi\" ]  2016-06-17T00:00:00.000Z   \n",
       "2              [ \"Hindi\", \"English\", \"Urdu\" ]  2001-12-14T00:00:00.000Z   \n",
       "3  [ \"Hindi\", \"Urdu\", \"Gujarati\", \"Panjabi\" ]  2003-11-28T00:00:00.000Z   \n",
       "4                      [ \"Hindi\", \"English\" ]  2016-06-17T00:00:00.000Z   \n",
       "\n",
       "   rating                                          writer  \\\n",
       "0     7.9  [ \"Saiwyn Quadras\", \"Sanyukta Shaikh Chawla\" ]   \n",
       "1     7.9          [ \"Sudip Sharma\", \"Abhishek Chaubey\" ]   \n",
       "2     7.5              [ \"Karan Johar\", \"Sheena Parikh\" ]   \n",
       "3     8.0           [ \"Niranjan Iyengar\", \"Karan Johar\" ]   \n",
       "4     7.6               [ \"Supratik Sen\", \"Leena Yadav\" ]   \n",
       "\n",
       "                 director                                               cast  \\\n",
       "0      [ \"Ram Madhvani\" ]  [ \"Sonam Kapoor\", \"Shabana Azmi\", \"Yogendra Ti...   \n",
       "1  [ \"Abhishek Chaubey\" ]  [ \"Alia Bhatt\", \"Shahid Kapoor\", \"Diljit Dosan...   \n",
       "2       [ \"Karan Johar\" ]  [ \"Amitabh Bachchan\", \"Jaya Bhaduri\", \"Shah Ru...   \n",
       "3    [ \"Nikkhil Advani\" ]  [ \"Shah Rukh Khan\", \"Preity Zinta\", \"Saif Ali ...   \n",
       "4       [ \"Leena Yadav\" ]  [ \"Tannishtha Chatterjee\", \"Radhika Apte\", \"Le...   \n",
       "\n",
       "                                  genre                         name  \n",
       "0  [ \"Biography\", \"Drama\", \"Thriller\" ]                       Neerja  \n",
       "1      [ \"Crime\", \"Drama\", \"Thriller\" ]                  Udta Punjab  \n",
       "2     [ \"Drama\", \"Musical\", \"Romance\" ]  Kabhi Khushi Kabhie Gham...  \n",
       "3      [ \"Comedy\", \"Drama\", \"Romance\" ]                Kal Ho Naa Ho  \n",
       "4                           [ \"Drama\" ]                      Parched  "
      ]
     },
     "execution_count": 4,
     "metadata": {},
     "output_type": "execute_result"
    }
   ],
   "source": [
    "df=pd.read_csv(\"ML_Dataset/movies_content.csv\")\n",
    "df.head()"
   ]
  },
  {
   "cell_type": "code",
   "execution_count": 6,
   "id": "26b0c8ea-b24b-4c17-8f28-85381676df30",
   "metadata": {},
   "outputs": [
    {
     "data": {
      "text/html": [
       "<div>\n",
       "<style scoped>\n",
       "    .dataframe tbody tr th:only-of-type {\n",
       "        vertical-align: middle;\n",
       "    }\n",
       "\n",
       "    .dataframe tbody tr th {\n",
       "        vertical-align: top;\n",
       "    }\n",
       "\n",
       "    .dataframe thead th {\n",
       "        text-align: right;\n",
       "    }\n",
       "</style>\n",
       "<table border=\"1\" class=\"dataframe\">\n",
       "  <thead>\n",
       "    <tr style=\"text-align: right;\">\n",
       "      <th></th>\n",
       "      <th>name</th>\n",
       "      <th>description</th>\n",
       "    </tr>\n",
       "  </thead>\n",
       "  <tbody>\n",
       "    <tr>\n",
       "      <th>0</th>\n",
       "      <td>Neerja</td>\n",
       "      <td>Neerja is the story of the courageous Neerja B...</td>\n",
       "    </tr>\n",
       "    <tr>\n",
       "      <th>1</th>\n",
       "      <td>Udta Punjab</td>\n",
       "      <td>A story that revolves around drug abuse in the...</td>\n",
       "    </tr>\n",
       "    <tr>\n",
       "      <th>2</th>\n",
       "      <td>Kabhi Khushi Kabhie Gham...</td>\n",
       "      <td>Yashvardhan Raichand lives a very wealthy life...</td>\n",
       "    </tr>\n",
       "    <tr>\n",
       "      <th>3</th>\n",
       "      <td>Kal Ho Naa Ho</td>\n",
       "      <td>Naina, an introverted, perpetually depressed g...</td>\n",
       "    </tr>\n",
       "    <tr>\n",
       "      <th>4</th>\n",
       "      <td>Parched</td>\n",
       "      <td>'Parched' is a story about women set in the he...</td>\n",
       "    </tr>\n",
       "    <tr>\n",
       "      <th>...</th>\n",
       "      <td>...</td>\n",
       "      <td>...</td>\n",
       "    </tr>\n",
       "    <tr>\n",
       "      <th>2845</th>\n",
       "      <td>Ranadheera</td>\n",
       "      <td>NaN</td>\n",
       "    </tr>\n",
       "    <tr>\n",
       "      <th>2846</th>\n",
       "      <td>Myna</td>\n",
       "      <td>NaN</td>\n",
       "    </tr>\n",
       "    <tr>\n",
       "      <th>2847</th>\n",
       "      <td>Chaddi Dosth</td>\n",
       "      <td>The plot is simple. Ranganna (Rangayana Raghu)...</td>\n",
       "    </tr>\n",
       "    <tr>\n",
       "      <th>2848</th>\n",
       "      <td>Shravani Subramanya</td>\n",
       "      <td>NaN</td>\n",
       "    </tr>\n",
       "    <tr>\n",
       "      <th>2849</th>\n",
       "      <td>Dharmasere</td>\n",
       "      <td>NaN</td>\n",
       "    </tr>\n",
       "  </tbody>\n",
       "</table>\n",
       "<p>2850 rows × 2 columns</p>\n",
       "</div>"
      ],
      "text/plain": [
       "                             name  \\\n",
       "0                          Neerja   \n",
       "1                     Udta Punjab   \n",
       "2     Kabhi Khushi Kabhie Gham...   \n",
       "3                   Kal Ho Naa Ho   \n",
       "4                         Parched   \n",
       "...                           ...   \n",
       "2845                   Ranadheera   \n",
       "2846                         Myna   \n",
       "2847                 Chaddi Dosth   \n",
       "2848          Shravani Subramanya   \n",
       "2849                   Dharmasere   \n",
       "\n",
       "                                            description  \n",
       "0     Neerja is the story of the courageous Neerja B...  \n",
       "1     A story that revolves around drug abuse in the...  \n",
       "2     Yashvardhan Raichand lives a very wealthy life...  \n",
       "3     Naina, an introverted, perpetually depressed g...  \n",
       "4     'Parched' is a story about women set in the he...  \n",
       "...                                                 ...  \n",
       "2845                                                NaN  \n",
       "2846                                                NaN  \n",
       "2847  The plot is simple. Ranganna (Rangayana Raghu)...  \n",
       "2848                                                NaN  \n",
       "2849                                                NaN  \n",
       "\n",
       "[2850 rows x 2 columns]"
      ]
     },
     "execution_count": 6,
     "metadata": {},
     "output_type": "execute_result"
    }
   ],
   "source": [
    "df=df[['name','description']]\n",
    "\n",
    "df"
   ]
  },
  {
   "cell_type": "code",
   "execution_count": 7,
   "id": "b4f0ab32-1100-4a27-8284-d4cddff63365",
   "metadata": {},
   "outputs": [
    {
     "data": {
      "text/html": [
       "<div>\n",
       "<style scoped>\n",
       "    .dataframe tbody tr th:only-of-type {\n",
       "        vertical-align: middle;\n",
       "    }\n",
       "\n",
       "    .dataframe tbody tr th {\n",
       "        vertical-align: top;\n",
       "    }\n",
       "\n",
       "    .dataframe thead th {\n",
       "        text-align: right;\n",
       "    }\n",
       "</style>\n",
       "<table border=\"1\" class=\"dataframe\">\n",
       "  <thead>\n",
       "    <tr style=\"text-align: right;\">\n",
       "      <th></th>\n",
       "      <th>name</th>\n",
       "      <th>description</th>\n",
       "    </tr>\n",
       "  </thead>\n",
       "  <tbody>\n",
       "    <tr>\n",
       "      <th>0</th>\n",
       "      <td>Neerja</td>\n",
       "      <td>Neerja is the story of the courageous Neerja B...</td>\n",
       "    </tr>\n",
       "    <tr>\n",
       "      <th>1</th>\n",
       "      <td>Udta Punjab</td>\n",
       "      <td>A story that revolves around drug abuse in the...</td>\n",
       "    </tr>\n",
       "    <tr>\n",
       "      <th>2</th>\n",
       "      <td>Kabhi Khushi Kabhie Gham...</td>\n",
       "      <td>Yashvardhan Raichand lives a very wealthy life...</td>\n",
       "    </tr>\n",
       "    <tr>\n",
       "      <th>3</th>\n",
       "      <td>Kal Ho Naa Ho</td>\n",
       "      <td>Naina, an introverted, perpetually depressed g...</td>\n",
       "    </tr>\n",
       "    <tr>\n",
       "      <th>4</th>\n",
       "      <td>Parched</td>\n",
       "      <td>'Parched' is a story about women set in the he...</td>\n",
       "    </tr>\n",
       "    <tr>\n",
       "      <th>...</th>\n",
       "      <td>...</td>\n",
       "      <td>...</td>\n",
       "    </tr>\n",
       "    <tr>\n",
       "      <th>2838</th>\n",
       "      <td>Run Antony</td>\n",
       "      <td>Antony is depressed and wants to commit suicid...</td>\n",
       "    </tr>\n",
       "    <tr>\n",
       "      <th>2841</th>\n",
       "      <td>Jolly Days</td>\n",
       "      <td>A bubbly tale, the story is about four pairs o...</td>\n",
       "    </tr>\n",
       "    <tr>\n",
       "      <th>2842</th>\n",
       "      <td>The Great Story of Sodabuddi</td>\n",
       "      <td>The film tells the story of Sodabuddi, who spe...</td>\n",
       "    </tr>\n",
       "    <tr>\n",
       "      <th>2844</th>\n",
       "      <td>Vamshi</td>\n",
       "      <td>Vamshi, under the eye of his mother is living ...</td>\n",
       "    </tr>\n",
       "    <tr>\n",
       "      <th>2847</th>\n",
       "      <td>Chaddi Dosth</td>\n",
       "      <td>The plot is simple. Ranganna (Rangayana Raghu)...</td>\n",
       "    </tr>\n",
       "  </tbody>\n",
       "</table>\n",
       "<p>1752 rows × 2 columns</p>\n",
       "</div>"
      ],
      "text/plain": [
       "                              name  \\\n",
       "0                           Neerja   \n",
       "1                      Udta Punjab   \n",
       "2      Kabhi Khushi Kabhie Gham...   \n",
       "3                    Kal Ho Naa Ho   \n",
       "4                          Parched   \n",
       "...                            ...   \n",
       "2838                    Run Antony   \n",
       "2841                    Jolly Days   \n",
       "2842  The Great Story of Sodabuddi   \n",
       "2844                        Vamshi   \n",
       "2847                  Chaddi Dosth   \n",
       "\n",
       "                                            description  \n",
       "0     Neerja is the story of the courageous Neerja B...  \n",
       "1     A story that revolves around drug abuse in the...  \n",
       "2     Yashvardhan Raichand lives a very wealthy life...  \n",
       "3     Naina, an introverted, perpetually depressed g...  \n",
       "4     'Parched' is a story about women set in the he...  \n",
       "...                                                 ...  \n",
       "2838  Antony is depressed and wants to commit suicid...  \n",
       "2841  A bubbly tale, the story is about four pairs o...  \n",
       "2842  The film tells the story of Sodabuddi, who spe...  \n",
       "2844  Vamshi, under the eye of his mother is living ...  \n",
       "2847  The plot is simple. Ranganna (Rangayana Raghu)...  \n",
       "\n",
       "[1752 rows x 2 columns]"
      ]
     },
     "execution_count": 7,
     "metadata": {},
     "output_type": "execute_result"
    }
   ],
   "source": [
    "#first drop NaN from dataframe\n",
    "df.dropna(inplace=True)   \n",
    "df"
   ]
  },
  {
   "cell_type": "code",
   "execution_count": 8,
   "id": "c36271c5-2d8b-4c89-8be2-b30d5e7a608f",
   "metadata": {},
   "outputs": [
    {
     "data": {
      "text/html": [
       "<div>\n",
       "<style scoped>\n",
       "    .dataframe tbody tr th:only-of-type {\n",
       "        vertical-align: middle;\n",
       "    }\n",
       "\n",
       "    .dataframe tbody tr th {\n",
       "        vertical-align: top;\n",
       "    }\n",
       "\n",
       "    .dataframe thead th {\n",
       "        text-align: right;\n",
       "    }\n",
       "</style>\n",
       "<table border=\"1\" class=\"dataframe\">\n",
       "  <thead>\n",
       "    <tr style=\"text-align: right;\">\n",
       "      <th></th>\n",
       "      <th>name</th>\n",
       "      <th>description</th>\n",
       "    </tr>\n",
       "  </thead>\n",
       "  <tbody>\n",
       "    <tr>\n",
       "      <th>0</th>\n",
       "      <td>Neerja</td>\n",
       "      <td>Neerja is the story of the courageous Neerja B...</td>\n",
       "    </tr>\n",
       "    <tr>\n",
       "      <th>1</th>\n",
       "      <td>Udta Punjab</td>\n",
       "      <td>A story that revolves around drug abuse in the...</td>\n",
       "    </tr>\n",
       "    <tr>\n",
       "      <th>2</th>\n",
       "      <td>Kabhi Khushi Kabhie Gham...</td>\n",
       "      <td>Yashvardhan Raichand lives a very wealthy life...</td>\n",
       "    </tr>\n",
       "    <tr>\n",
       "      <th>3</th>\n",
       "      <td>Kal Ho Naa Ho</td>\n",
       "      <td>Naina, an introverted, perpetually depressed g...</td>\n",
       "    </tr>\n",
       "    <tr>\n",
       "      <th>4</th>\n",
       "      <td>Parched</td>\n",
       "      <td>'Parched' is a story about women set in the he...</td>\n",
       "    </tr>\n",
       "    <tr>\n",
       "      <th>...</th>\n",
       "      <td>...</td>\n",
       "      <td>...</td>\n",
       "    </tr>\n",
       "    <tr>\n",
       "      <th>2838</th>\n",
       "      <td>Run Antony</td>\n",
       "      <td>Antony is depressed and wants to commit suicid...</td>\n",
       "    </tr>\n",
       "    <tr>\n",
       "      <th>2841</th>\n",
       "      <td>Jolly Days</td>\n",
       "      <td>A bubbly tale, the story is about four pairs o...</td>\n",
       "    </tr>\n",
       "    <tr>\n",
       "      <th>2842</th>\n",
       "      <td>The Great Story of Sodabuddi</td>\n",
       "      <td>The film tells the story of Sodabuddi, who spe...</td>\n",
       "    </tr>\n",
       "    <tr>\n",
       "      <th>2844</th>\n",
       "      <td>Vamshi</td>\n",
       "      <td>Vamshi, under the eye of his mother is living ...</td>\n",
       "    </tr>\n",
       "    <tr>\n",
       "      <th>2847</th>\n",
       "      <td>Chaddi Dosth</td>\n",
       "      <td>The plot is simple. Ranganna (Rangayana Raghu)...</td>\n",
       "    </tr>\n",
       "  </tbody>\n",
       "</table>\n",
       "<p>1751 rows × 2 columns</p>\n",
       "</div>"
      ],
      "text/plain": [
       "                              name  \\\n",
       "0                           Neerja   \n",
       "1                      Udta Punjab   \n",
       "2      Kabhi Khushi Kabhie Gham...   \n",
       "3                    Kal Ho Naa Ho   \n",
       "4                          Parched   \n",
       "...                            ...   \n",
       "2838                    Run Antony   \n",
       "2841                    Jolly Days   \n",
       "2842  The Great Story of Sodabuddi   \n",
       "2844                        Vamshi   \n",
       "2847                  Chaddi Dosth   \n",
       "\n",
       "                                            description  \n",
       "0     Neerja is the story of the courageous Neerja B...  \n",
       "1     A story that revolves around drug abuse in the...  \n",
       "2     Yashvardhan Raichand lives a very wealthy life...  \n",
       "3     Naina, an introverted, perpetually depressed g...  \n",
       "4     'Parched' is a story about women set in the he...  \n",
       "...                                                 ...  \n",
       "2838  Antony is depressed and wants to commit suicid...  \n",
       "2841  A bubbly tale, the story is about four pairs o...  \n",
       "2842  The film tells the story of Sodabuddi, who spe...  \n",
       "2844  Vamshi, under the eye of his mother is living ...  \n",
       "2847  The plot is simple. Ranganna (Rangayana Raghu)...  \n",
       "\n",
       "[1751 rows x 2 columns]"
      ]
     },
     "execution_count": 8,
     "metadata": {},
     "output_type": "execute_result"
    }
   ],
   "source": [
    "#drop duplicate or similary row\n",
    "df.drop_duplicates(inplace=True)\n",
    "\n",
    "df"
   ]
  },
  {
   "cell_type": "code",
   "execution_count": 9,
   "id": "a4a012c2-87b4-4d7a-ad6b-00ba0c16bf89",
   "metadata": {},
   "outputs": [],
   "source": [
    "#reset index  and create old index as column\n",
    "df.reset_index(drop=True,inplace=True) #drop =True ;remove old index"
   ]
  },
  {
   "cell_type": "code",
   "execution_count": 10,
   "id": "f727472e-27d6-4b5f-95b3-cc6b512dd7c7",
   "metadata": {},
   "outputs": [
    {
     "data": {
      "text/html": [
       "<div>\n",
       "<style scoped>\n",
       "    .dataframe tbody tr th:only-of-type {\n",
       "        vertical-align: middle;\n",
       "    }\n",
       "\n",
       "    .dataframe tbody tr th {\n",
       "        vertical-align: top;\n",
       "    }\n",
       "\n",
       "    .dataframe thead th {\n",
       "        text-align: right;\n",
       "    }\n",
       "</style>\n",
       "<table border=\"1\" class=\"dataframe\">\n",
       "  <thead>\n",
       "    <tr style=\"text-align: right;\">\n",
       "      <th></th>\n",
       "      <th>name</th>\n",
       "      <th>description</th>\n",
       "    </tr>\n",
       "  </thead>\n",
       "  <tbody>\n",
       "    <tr>\n",
       "      <th>0</th>\n",
       "      <td>Neerja</td>\n",
       "      <td>Neerja is the story of the courageous Neerja B...</td>\n",
       "    </tr>\n",
       "    <tr>\n",
       "      <th>1</th>\n",
       "      <td>Udta Punjab</td>\n",
       "      <td>A story that revolves around drug abuse in the...</td>\n",
       "    </tr>\n",
       "    <tr>\n",
       "      <th>2</th>\n",
       "      <td>Kabhi Khushi Kabhie Gham...</td>\n",
       "      <td>Yashvardhan Raichand lives a very wealthy life...</td>\n",
       "    </tr>\n",
       "    <tr>\n",
       "      <th>3</th>\n",
       "      <td>Kal Ho Naa Ho</td>\n",
       "      <td>Naina, an introverted, perpetually depressed g...</td>\n",
       "    </tr>\n",
       "    <tr>\n",
       "      <th>4</th>\n",
       "      <td>Parched</td>\n",
       "      <td>'Parched' is a story about women set in the he...</td>\n",
       "    </tr>\n",
       "    <tr>\n",
       "      <th>...</th>\n",
       "      <td>...</td>\n",
       "      <td>...</td>\n",
       "    </tr>\n",
       "    <tr>\n",
       "      <th>1746</th>\n",
       "      <td>Run Antony</td>\n",
       "      <td>Antony is depressed and wants to commit suicid...</td>\n",
       "    </tr>\n",
       "    <tr>\n",
       "      <th>1747</th>\n",
       "      <td>Jolly Days</td>\n",
       "      <td>A bubbly tale, the story is about four pairs o...</td>\n",
       "    </tr>\n",
       "    <tr>\n",
       "      <th>1748</th>\n",
       "      <td>The Great Story of Sodabuddi</td>\n",
       "      <td>The film tells the story of Sodabuddi, who spe...</td>\n",
       "    </tr>\n",
       "    <tr>\n",
       "      <th>1749</th>\n",
       "      <td>Vamshi</td>\n",
       "      <td>Vamshi, under the eye of his mother is living ...</td>\n",
       "    </tr>\n",
       "    <tr>\n",
       "      <th>1750</th>\n",
       "      <td>Chaddi Dosth</td>\n",
       "      <td>The plot is simple. Ranganna (Rangayana Raghu)...</td>\n",
       "    </tr>\n",
       "  </tbody>\n",
       "</table>\n",
       "<p>1751 rows × 2 columns</p>\n",
       "</div>"
      ],
      "text/plain": [
       "                              name  \\\n",
       "0                           Neerja   \n",
       "1                      Udta Punjab   \n",
       "2      Kabhi Khushi Kabhie Gham...   \n",
       "3                    Kal Ho Naa Ho   \n",
       "4                          Parched   \n",
       "...                            ...   \n",
       "1746                    Run Antony   \n",
       "1747                    Jolly Days   \n",
       "1748  The Great Story of Sodabuddi   \n",
       "1749                        Vamshi   \n",
       "1750                  Chaddi Dosth   \n",
       "\n",
       "                                            description  \n",
       "0     Neerja is the story of the courageous Neerja B...  \n",
       "1     A story that revolves around drug abuse in the...  \n",
       "2     Yashvardhan Raichand lives a very wealthy life...  \n",
       "3     Naina, an introverted, perpetually depressed g...  \n",
       "4     'Parched' is a story about women set in the he...  \n",
       "...                                                 ...  \n",
       "1746  Antony is depressed and wants to commit suicid...  \n",
       "1747  A bubbly tale, the story is about four pairs o...  \n",
       "1748  The film tells the story of Sodabuddi, who spe...  \n",
       "1749  Vamshi, under the eye of his mother is living ...  \n",
       "1750  The plot is simple. Ranganna (Rangayana Raghu)...  \n",
       "\n",
       "[1751 rows x 2 columns]"
      ]
     },
     "execution_count": 10,
     "metadata": {},
     "output_type": "execute_result"
    }
   ],
   "source": [
    "df"
   ]
  },
  {
   "cell_type": "code",
   "execution_count": 35,
   "id": "2cccf72c-7fdd-4aa1-adea-70f2f37c5118",
   "metadata": {},
   "outputs": [
    {
     "data": {
      "text/html": [
       "<div>\n",
       "<style scoped>\n",
       "    .dataframe tbody tr th:only-of-type {\n",
       "        vertical-align: middle;\n",
       "    }\n",
       "\n",
       "    .dataframe tbody tr th {\n",
       "        vertical-align: top;\n",
       "    }\n",
       "\n",
       "    .dataframe thead th {\n",
       "        text-align: right;\n",
       "    }\n",
       "</style>\n",
       "<table border=\"1\" class=\"dataframe\">\n",
       "  <thead>\n",
       "    <tr style=\"text-align: right;\">\n",
       "      <th></th>\n",
       "      <th>name</th>\n",
       "      <th>description</th>\n",
       "    </tr>\n",
       "  </thead>\n",
       "  <tbody>\n",
       "    <tr>\n",
       "      <th>0</th>\n",
       "      <td>neerja</td>\n",
       "      <td>Neerja is the story of the courageous Neerja B...</td>\n",
       "    </tr>\n",
       "    <tr>\n",
       "      <th>1</th>\n",
       "      <td>udta punjab</td>\n",
       "      <td>A story that revolves around drug abuse in the...</td>\n",
       "    </tr>\n",
       "    <tr>\n",
       "      <th>2</th>\n",
       "      <td>kabhi khushi kabhie gham...</td>\n",
       "      <td>Yashvardhan Raichand lives a very wealthy life...</td>\n",
       "    </tr>\n",
       "    <tr>\n",
       "      <th>3</th>\n",
       "      <td>kal ho naa ho</td>\n",
       "      <td>Naina, an introverted, perpetually depressed g...</td>\n",
       "    </tr>\n",
       "    <tr>\n",
       "      <th>4</th>\n",
       "      <td>parched</td>\n",
       "      <td>'Parched' is a story about women set in the he...</td>\n",
       "    </tr>\n",
       "    <tr>\n",
       "      <th>...</th>\n",
       "      <td>...</td>\n",
       "      <td>...</td>\n",
       "    </tr>\n",
       "    <tr>\n",
       "      <th>1746</th>\n",
       "      <td>run antony</td>\n",
       "      <td>Antony is depressed and wants to commit suicid...</td>\n",
       "    </tr>\n",
       "    <tr>\n",
       "      <th>1747</th>\n",
       "      <td>jolly days</td>\n",
       "      <td>A bubbly tale, the story is about four pairs o...</td>\n",
       "    </tr>\n",
       "    <tr>\n",
       "      <th>1748</th>\n",
       "      <td>the great story of sodabuddi</td>\n",
       "      <td>The film tells the story of Sodabuddi, who spe...</td>\n",
       "    </tr>\n",
       "    <tr>\n",
       "      <th>1749</th>\n",
       "      <td>vamshi</td>\n",
       "      <td>Vamshi, under the eye of his mother is living ...</td>\n",
       "    </tr>\n",
       "    <tr>\n",
       "      <th>1750</th>\n",
       "      <td>chaddi dosth</td>\n",
       "      <td>The plot is simple. Ranganna (Rangayana Raghu)...</td>\n",
       "    </tr>\n",
       "  </tbody>\n",
       "</table>\n",
       "<p>1751 rows × 2 columns</p>\n",
       "</div>"
      ],
      "text/plain": [
       "                              name  \\\n",
       "0                           neerja   \n",
       "1                      udta punjab   \n",
       "2      kabhi khushi kabhie gham...   \n",
       "3                    kal ho naa ho   \n",
       "4                          parched   \n",
       "...                            ...   \n",
       "1746                    run antony   \n",
       "1747                    jolly days   \n",
       "1748  the great story of sodabuddi   \n",
       "1749                        vamshi   \n",
       "1750                  chaddi dosth   \n",
       "\n",
       "                                            description  \n",
       "0     Neerja is the story of the courageous Neerja B...  \n",
       "1     A story that revolves around drug abuse in the...  \n",
       "2     Yashvardhan Raichand lives a very wealthy life...  \n",
       "3     Naina, an introverted, perpetually depressed g...  \n",
       "4     'Parched' is a story about women set in the he...  \n",
       "...                                                 ...  \n",
       "1746  Antony is depressed and wants to commit suicid...  \n",
       "1747  A bubbly tale, the story is about four pairs o...  \n",
       "1748  The film tells the story of Sodabuddi, who spe...  \n",
       "1749  Vamshi, under the eye of his mother is living ...  \n",
       "1750  The plot is simple. Ranganna (Rangayana Raghu)...  \n",
       "\n",
       "[1751 rows x 2 columns]"
      ]
     },
     "execution_count": 35,
     "metadata": {},
     "output_type": "execute_result"
    }
   ],
   "source": [
    "#convert name into lower case;->\n",
    "df.name=df.name.map(str.lower)\n",
    "df"
   ]
  },
  {
   "cell_type": "code",
   "execution_count": 36,
   "id": "4da443e0-9193-4133-9f98-bef31407b39d",
   "metadata": {},
   "outputs": [],
   "source": [
    "# vectorize the above data frame&text preprocessing on 'description' column\n",
    "from sklearn.feature_extraction.text import TfidfVectorizer\n",
    "\n",
    "tv=TfidfVectorizer(stop_words=\"english\",lowercase=True)   #stop_words :=>remove stopword\n",
    "                                                           #lowercase=> convert text(for description) into lower\n",
    "\n",
    "\n",
    "vectors=tv.fit_transform(df.description).toarray()    #vectorize description as dence matrix"
   ]
  },
  {
   "cell_type": "code",
   "execution_count": 12,
   "id": "d6c7f322-8919-4b81-830f-bf0f370de2ed",
   "metadata": {},
   "outputs": [],
   "source": [
    "#now create model \n",
    "#NearestNeighbors;is algos in neighbors module it is use to suggest item best on experiance based item.\n",
    "\n",
    "from sklearn.neighbors import NearestNeighbors\n"
   ]
  },
  {
   "cell_type": "code",
   "execution_count": 13,
   "id": "77a623b5-a579-4dc9-a38b-d1669a7257f2",
   "metadata": {},
   "outputs": [
    {
     "data": {
      "text/html": [
       "<style>#sk-container-id-1 {color: black;background-color: white;}#sk-container-id-1 pre{padding: 0;}#sk-container-id-1 div.sk-toggleable {background-color: white;}#sk-container-id-1 label.sk-toggleable__label {cursor: pointer;display: block;width: 100%;margin-bottom: 0;padding: 0.3em;box-sizing: border-box;text-align: center;}#sk-container-id-1 label.sk-toggleable__label-arrow:before {content: \"▸\";float: left;margin-right: 0.25em;color: #696969;}#sk-container-id-1 label.sk-toggleable__label-arrow:hover:before {color: black;}#sk-container-id-1 div.sk-estimator:hover label.sk-toggleable__label-arrow:before {color: black;}#sk-container-id-1 div.sk-toggleable__content {max-height: 0;max-width: 0;overflow: hidden;text-align: left;background-color: #f0f8ff;}#sk-container-id-1 div.sk-toggleable__content pre {margin: 0.2em;color: black;border-radius: 0.25em;background-color: #f0f8ff;}#sk-container-id-1 input.sk-toggleable__control:checked~div.sk-toggleable__content {max-height: 200px;max-width: 100%;overflow: auto;}#sk-container-id-1 input.sk-toggleable__control:checked~label.sk-toggleable__label-arrow:before {content: \"▾\";}#sk-container-id-1 div.sk-estimator input.sk-toggleable__control:checked~label.sk-toggleable__label {background-color: #d4ebff;}#sk-container-id-1 div.sk-label input.sk-toggleable__control:checked~label.sk-toggleable__label {background-color: #d4ebff;}#sk-container-id-1 input.sk-hidden--visually {border: 0;clip: rect(1px 1px 1px 1px);clip: rect(1px, 1px, 1px, 1px);height: 1px;margin: -1px;overflow: hidden;padding: 0;position: absolute;width: 1px;}#sk-container-id-1 div.sk-estimator {font-family: monospace;background-color: #f0f8ff;border: 1px dotted black;border-radius: 0.25em;box-sizing: border-box;margin-bottom: 0.5em;}#sk-container-id-1 div.sk-estimator:hover {background-color: #d4ebff;}#sk-container-id-1 div.sk-parallel-item::after {content: \"\";width: 100%;border-bottom: 1px solid gray;flex-grow: 1;}#sk-container-id-1 div.sk-label:hover label.sk-toggleable__label {background-color: #d4ebff;}#sk-container-id-1 div.sk-serial::before {content: \"\";position: absolute;border-left: 1px solid gray;box-sizing: border-box;top: 0;bottom: 0;left: 50%;z-index: 0;}#sk-container-id-1 div.sk-serial {display: flex;flex-direction: column;align-items: center;background-color: white;padding-right: 0.2em;padding-left: 0.2em;position: relative;}#sk-container-id-1 div.sk-item {position: relative;z-index: 1;}#sk-container-id-1 div.sk-parallel {display: flex;align-items: stretch;justify-content: center;background-color: white;position: relative;}#sk-container-id-1 div.sk-item::before, #sk-container-id-1 div.sk-parallel-item::before {content: \"\";position: absolute;border-left: 1px solid gray;box-sizing: border-box;top: 0;bottom: 0;left: 50%;z-index: -1;}#sk-container-id-1 div.sk-parallel-item {display: flex;flex-direction: column;z-index: 1;position: relative;background-color: white;}#sk-container-id-1 div.sk-parallel-item:first-child::after {align-self: flex-end;width: 50%;}#sk-container-id-1 div.sk-parallel-item:last-child::after {align-self: flex-start;width: 50%;}#sk-container-id-1 div.sk-parallel-item:only-child::after {width: 0;}#sk-container-id-1 div.sk-dashed-wrapped {border: 1px dashed gray;margin: 0 0.4em 0.5em 0.4em;box-sizing: border-box;padding-bottom: 0.4em;background-color: white;}#sk-container-id-1 div.sk-label label {font-family: monospace;font-weight: bold;display: inline-block;line-height: 1.2em;}#sk-container-id-1 div.sk-label-container {text-align: center;}#sk-container-id-1 div.sk-container {/* jupyter's `normalize.less` sets `[hidden] { display: none; }` but bootstrap.min.css set `[hidden] { display: none !important; }` so we also need the `!important` here to be able to override the default hidden behavior on the sphinx rendered scikit-learn.org. See: https://github.com/scikit-learn/scikit-learn/issues/21755 */display: inline-block !important;position: relative;}#sk-container-id-1 div.sk-text-repr-fallback {display: none;}</style><div id=\"sk-container-id-1\" class=\"sk-top-container\"><div class=\"sk-text-repr-fallback\"><pre>NearestNeighbors(metric=&#x27;cosine&#x27;)</pre><b>In a Jupyter environment, please rerun this cell to show the HTML representation or trust the notebook. <br />On GitHub, the HTML representation is unable to render, please try loading this page with nbviewer.org.</b></div><div class=\"sk-container\" hidden><div class=\"sk-item\"><div class=\"sk-estimator sk-toggleable\"><input class=\"sk-toggleable__control sk-hidden--visually\" id=\"sk-estimator-id-1\" type=\"checkbox\" checked><label for=\"sk-estimator-id-1\" class=\"sk-toggleable__label sk-toggleable__label-arrow\">NearestNeighbors</label><div class=\"sk-toggleable__content\"><pre>NearestNeighbors(metric=&#x27;cosine&#x27;)</pre></div></div></div></div></div>"
      ],
      "text/plain": [
       "NearestNeighbors(metric='cosine')"
      ]
     },
     "execution_count": 13,
     "metadata": {},
     "output_type": "execute_result"
    }
   ],
   "source": [
    "model=NearestNeighbors(metric=\"cosine\")   #metrics =\"cosine\" =>internally work on cosine distance formula to find\n",
    "model.fit(vectors)"
   ]
  },
  {
   "cell_type": "code",
   "execution_count": 15,
   "id": "4855c6cd-785b-4e99-b8da-30ccaa3a02fb",
   "metadata": {},
   "outputs": [
    {
     "data": {
      "text/plain": [
       "array([[0., 0., 0., ..., 0., 0., 0.],\n",
       "       [0., 0., 0., ..., 0., 0., 0.],\n",
       "       [0., 0., 0., ..., 0., 0., 0.],\n",
       "       ...,\n",
       "       [0., 0., 0., ..., 0., 0., 0.],\n",
       "       [0., 0., 0., ..., 0., 0., 0.],\n",
       "       [0., 0., 0., ..., 0., 0., 0.]])"
      ]
     },
     "execution_count": 15,
     "metadata": {},
     "output_type": "execute_result"
    }
   ],
   "source": [
    "vectors"
   ]
  },
  {
   "cell_type": "code",
   "execution_count": 16,
   "id": "b68b2e0d-75a5-45bf-b1a6-f2df33c2cbdc",
   "metadata": {},
   "outputs": [
    {
     "data": {
      "text/plain": [
       "array([0., 0., 0., ..., 0., 0., 0.])"
      ]
     },
     "execution_count": 16,
     "metadata": {},
     "output_type": "execute_result"
    }
   ],
   "source": [
    "vectors[0]"
   ]
  },
  {
   "cell_type": "code",
   "execution_count": 25,
   "id": "7bc38214-e2f5-4ce8-adfb-371825c33983",
   "metadata": {},
   "outputs": [
    {
     "data": {
      "text/plain": [
       "(array([[0.        , 0.85030796, 0.87983038, 0.92082846, 0.93608081]]),\n",
       " array([[   0, 1327,  107, 1563,  560]], dtype=int64))"
      ]
     },
     "execution_count": 25,
     "metadata": {},
     "output_type": "execute_result"
    }
   ],
   "source": [
    "#distances,indexes=model.kneighbors(movies,n_neighbor)   :suggest similar type of movies(items) base on  given movies\n",
    "\n",
    "model.kneighbors([vectors[0]],n_neighbors=5)"
   ]
  },
  {
   "cell_type": "markdown",
   "id": "70b516d5-cb5c-4bbc-afde-74adf26fab8a",
   "metadata": {},
   "source": [
    "=>[[distance][index]]"
   ]
  },
  {
   "cell_type": "code",
   "execution_count": 26,
   "id": "ab389d99-be90-4451-b717-5086f939b864",
   "metadata": {},
   "outputs": [],
   "source": [
    "#or-----\n",
    "distances,indexes=model.kneighbors([vectors[0]],n_neighbors=5)       #,n_neighbors ;suggest minimun distance no.of movies"
   ]
  },
  {
   "cell_type": "code",
   "execution_count": 27,
   "id": "daa56efe-42fc-4870-b855-8af5d1eccbb8",
   "metadata": {},
   "outputs": [
    {
     "data": {
      "text/plain": [
       "array([[   0, 1327,  107, 1563,  560]], dtype=int64)"
      ]
     },
     "execution_count": 27,
     "metadata": {},
     "output_type": "execute_result"
    }
   ],
   "source": [
    "indexes"
   ]
  },
  {
   "cell_type": "code",
   "execution_count": 30,
   "id": "cf709d6f-1aa3-4eaa-ad59-4be33a8e50e2",
   "metadata": {},
   "outputs": [
    {
     "data": {
      "text/plain": [
       "array([1327,  107, 1563,  560], dtype=int64)"
      ]
     },
     "execution_count": 30,
     "metadata": {},
     "output_type": "execute_result"
    }
   ],
   "source": [
    "indexes[0][1:]   #skip searchin movies wich is at 0 index"
   ]
  },
  {
   "cell_type": "markdown",
   "id": "929da75b-7edf-440a-a0e8-34ef55a06056",
   "metadata": {},
   "source": [
    "-->these are suggested movie"
   ]
  },
  {
   "cell_type": "code",
   "execution_count": 31,
   "id": "020c0191-0547-4662-8f95-c156fb1b389d",
   "metadata": {},
   "outputs": [
    {
     "data": {
      "text/plain": [
       "'Enakkul Oru Devathai'"
      ]
     },
     "execution_count": 31,
     "metadata": {},
     "output_type": "execute_result"
    }
   ],
   "source": [
    "df.iloc[1327]['name']    #suggest movies at 1327 index"
   ]
  },
  {
   "cell_type": "markdown",
   "id": "9afcf696-ed0e-4e28-9e89-1d027078a8be",
   "metadata": {},
   "source": [
    "or-----------"
   ]
  },
  {
   "cell_type": "code",
   "execution_count": 33,
   "id": "ff2d241c-0c17-4065-8665-6834919ad16b",
   "metadata": {},
   "outputs": [
    {
     "name": "stdout",
     "output_type": "stream",
     "text": [
      "Enakkul Oru Devathai\n",
      "Khakee\n",
      "Vedam\n",
      "Rikki-Tikki-Tavi\n"
     ]
    }
   ],
   "source": [
    "#all suggest movies\n",
    "for i in indexes[0][1:]:\n",
    "    print(df.iloc[i]['name'])  "
   ]
  },
  {
   "cell_type": "markdown",
   "id": "ab00d1d8-ffb8-45e4-8b2e-849f5df321cd",
   "metadata": {},
   "source": [
    "============>these are suggest movies for'neerja'"
   ]
  },
  {
   "cell_type": "markdown",
   "id": "86e80a84-95e3-4efa-aa7d-4b4b8e7d8a22",
   "metadata": {},
   "source": [
    "#NOW SUGGEST MOVIES BY INPUT MOVIES;==>"
   ]
  },
  {
   "cell_type": "code",
   "execution_count": 39,
   "id": "404b2c1a-ba94-45aa-9940-84c281ddbbdd",
   "metadata": {},
   "outputs": [
    {
     "name": "stdin",
     "output_type": "stream",
     "text": [
      "enter movie name: neerja\n"
     ]
    },
    {
     "name": "stdout",
     "output_type": "stream",
     "text": [
      "enakkul oru devathai\n",
      "khakee\n",
      "vedam\n",
      "rikki-tikki-tavi\n"
     ]
    }
   ],
   "source": [
    "movie_name=input('enter movie name:').lower()\n",
    "\n",
    "if movie_name in df.name.values:\n",
    "    \n",
    "    index=df[df.name==movie_name].index[0]\n",
    "    \n",
    "    distances,indexes=model.kneighbors([vectors[index]],n_neighbors=5)\n",
    "    for i in indexes[0][1:]:\n",
    "        print(df.iloc[i]['name'])\n",
    "else:\n",
    "    print('movie not found in database')"
   ]
  },
  {
   "cell_type": "markdown",
   "id": "4e4d8ccc-b0b9-4aa0-b7d5-7397ba37b0fc",
   "metadata": {},
   "source": [
    "=====>these are suggested movies"
   ]
  },
  {
   "cell_type": "markdown",
   "id": "29c1346a-14a7-4de2-adc8-88a427b550eb",
   "metadata": {},
   "source": [
    " # OR------------------>"
   ]
  },
  {
   "cell_type": "markdown",
   "id": "a339dd4a-2d2a-4d3b-909f-635ecc1e1bc7",
   "metadata": {},
   "source": [
    "###NOW, Arrange movies recommandation system code =>"
   ]
  },
  {
   "cell_type": "code",
   "execution_count": null,
   "id": "d8e01836-f215-4f0c-a348-a566a40f02e0",
   "metadata": {},
   "outputs": [],
   "source": [
    "import pandas as pd\n",
    "from sklearn.feature_extraction.text import TfidfVectorizer\n",
    "from sklearn.neighbors import NearestNeighbors\n",
    "\n",
    "df=pd.read_csv(\"ML_Dataset/movies_content.csv\")\n",
    "\n",
    "df=df[['name','description']]\n",
    "\n",
    "df.dropna(inplace=True)\n",
    "\n",
    "df.drop_duplicates(inplace=True)\n",
    "\n",
    "df.reset_index(drop=True,inplace=True)\n",
    "\n",
    "df.name=df.name.map(str.lower)\n",
    "\n",
    "tv=TfidfVectorizer(stop_words=\"english\",lowercase=True)\n",
    "\n",
    "vectors=tv.fit_transform(df.description).toarray()\n",
    "\n",
    "model=NearestNeighbors(metric=\"cosine\")\n",
    "\n",
    "model.fit(vectors)\n",
    "\n",
    "movie_name=input('enter movie name:').lower()\n",
    "if movie_name in df.name.values:\n",
    "    index=df[df.name==movie_name].index[0]\n",
    "    distances,indexes=model.kneighbors([vectors[index]],n_neighbors=5)\n",
    "    for i in indexes[0][1:]:\n",
    "        print(df.iloc[i]['name'])\n",
    "else:\n",
    "    print('movie not found in database')"
   ]
  },
  {
   "cell_type": "code",
   "execution_count": null,
   "id": "cf5773ea-e477-4637-9208-7969f936449a",
   "metadata": {},
   "outputs": [],
   "source": [
    "#NOTE;you can work at netflix data\n",
    "_____"
   ]
  }
 ],
 "metadata": {
  "kernelspec": {
   "display_name": "Python 3 (ipykernel)",
   "language": "python",
   "name": "python3"
  },
  "language_info": {
   "codemirror_mode": {
    "name": "ipython",
    "version": 3
   },
   "file_extension": ".py",
   "mimetype": "text/x-python",
   "name": "python",
   "nbconvert_exporter": "python",
   "pygments_lexer": "ipython3",
   "version": "3.11.7"
  }
 },
 "nbformat": 4,
 "nbformat_minor": 5
}
